{
  "cells": [
    {
      "cell_type": "markdown",
      "metadata": {
        "id": "view-in-github",
        "colab_type": "text"
      },
      "source": [
        "<a href=\"https://colab.research.google.com/github/An201401004/Music-Genre-Classification/blob/main/Music_Genre_Classification.ipynb\" target=\"_parent\"><img src=\"https://colab.research.google.com/assets/colab-badge.svg\" alt=\"Open In Colab\"/></a>"
      ]
    },
    {
      "cell_type": "markdown",
      "source": [
        "Importing Libraries"
      ],
      "metadata": {
        "id": "OUfVB6BauAm2"
      }
    },
    {
      "cell_type": "code",
      "execution_count": null,
      "metadata": {
        "id": "IRwoFzF2NeYM"
      },
      "outputs": [],
      "source": [
        "import pandas as pd\n",
        "import numpy as np\n",
        "import matplotlib.pyplot as plt\n",
        "import scipy\n",
        "import sys\n",
        "import os\n",
        "import pickle\n",
        "import librosa\n",
        "import librosa.display\n",
        "from IPython.display import Audio\n",
        "from sklearn.model_selection import train_test_split\n",
        "from sklearn.preprocessing import LabelEncoder\n",
        "import tensorflow as tf\n",
        "from tensorflow import keras as k"
      ]
    },
    {
      "cell_type": "markdown",
      "source": [
        "Reading the CSV file"
      ],
      "metadata": {
        "id": "NrdtMXi7uEDq"
      }
    },
    {
      "cell_type": "code",
      "execution_count": null,
      "metadata": {
        "colab": {
          "base_uri": "https://localhost:8080/",
          "height": 299
        },
        "id": "4jMF5f6jNtlb",
        "outputId": "1b7443bb-c295-4246-a545-ddbac0ca31a4"
      },
      "outputs": [
        {
          "data": {
            "text/html": [
              "\n",
              "  <div id=\"df-7d798514-7618-4553-bc37-ed3f0c7fceb7\">\n",
              "    <div class=\"colab-df-container\">\n",
              "      <div>\n",
              "<style scoped>\n",
              "    .dataframe tbody tr th:only-of-type {\n",
              "        vertical-align: middle;\n",
              "    }\n",
              "\n",
              "    .dataframe tbody tr th {\n",
              "        vertical-align: top;\n",
              "    }\n",
              "\n",
              "    .dataframe thead th {\n",
              "        text-align: right;\n",
              "    }\n",
              "</style>\n",
              "<table border=\"1\" class=\"dataframe\">\n",
              "  <thead>\n",
              "    <tr style=\"text-align: right;\">\n",
              "      <th></th>\n",
              "      <th>filename</th>\n",
              "      <th>length</th>\n",
              "      <th>chroma_stft_mean</th>\n",
              "      <th>chroma_stft_var</th>\n",
              "      <th>rms_mean</th>\n",
              "      <th>rms_var</th>\n",
              "      <th>spectral_centroid_mean</th>\n",
              "      <th>spectral_centroid_var</th>\n",
              "      <th>spectral_bandwidth_mean</th>\n",
              "      <th>spectral_bandwidth_var</th>\n",
              "      <th>...</th>\n",
              "      <th>mfcc16_var</th>\n",
              "      <th>mfcc17_mean</th>\n",
              "      <th>mfcc17_var</th>\n",
              "      <th>mfcc18_mean</th>\n",
              "      <th>mfcc18_var</th>\n",
              "      <th>mfcc19_mean</th>\n",
              "      <th>mfcc19_var</th>\n",
              "      <th>mfcc20_mean</th>\n",
              "      <th>mfcc20_var</th>\n",
              "      <th>label</th>\n",
              "    </tr>\n",
              "  </thead>\n",
              "  <tbody>\n",
              "    <tr>\n",
              "      <th>0</th>\n",
              "      <td>blues.00000.0.wav</td>\n",
              "      <td>66149</td>\n",
              "      <td>0.335406</td>\n",
              "      <td>0.091048</td>\n",
              "      <td>0.130405</td>\n",
              "      <td>0.003521</td>\n",
              "      <td>1773.065032</td>\n",
              "      <td>167541.630869</td>\n",
              "      <td>1972.744388</td>\n",
              "      <td>117335.771563</td>\n",
              "      <td>...</td>\n",
              "      <td>39.687145</td>\n",
              "      <td>-3.241280</td>\n",
              "      <td>36.488243</td>\n",
              "      <td>0.722209</td>\n",
              "      <td>38.099152</td>\n",
              "      <td>-5.050335</td>\n",
              "      <td>33.618073</td>\n",
              "      <td>-0.243027</td>\n",
              "      <td>43.771767</td>\n",
              "      <td>blues</td>\n",
              "    </tr>\n",
              "    <tr>\n",
              "      <th>1</th>\n",
              "      <td>blues.00000.1.wav</td>\n",
              "      <td>66149</td>\n",
              "      <td>0.343065</td>\n",
              "      <td>0.086147</td>\n",
              "      <td>0.112699</td>\n",
              "      <td>0.001450</td>\n",
              "      <td>1816.693777</td>\n",
              "      <td>90525.690866</td>\n",
              "      <td>2010.051501</td>\n",
              "      <td>65671.875673</td>\n",
              "      <td>...</td>\n",
              "      <td>64.748276</td>\n",
              "      <td>-6.055294</td>\n",
              "      <td>40.677654</td>\n",
              "      <td>0.159015</td>\n",
              "      <td>51.264091</td>\n",
              "      <td>-2.837699</td>\n",
              "      <td>97.030830</td>\n",
              "      <td>5.784063</td>\n",
              "      <td>59.943081</td>\n",
              "      <td>blues</td>\n",
              "    </tr>\n",
              "    <tr>\n",
              "      <th>2</th>\n",
              "      <td>blues.00000.2.wav</td>\n",
              "      <td>66149</td>\n",
              "      <td>0.346815</td>\n",
              "      <td>0.092243</td>\n",
              "      <td>0.132003</td>\n",
              "      <td>0.004620</td>\n",
              "      <td>1788.539719</td>\n",
              "      <td>111407.437613</td>\n",
              "      <td>2084.565132</td>\n",
              "      <td>75124.921716</td>\n",
              "      <td>...</td>\n",
              "      <td>67.336563</td>\n",
              "      <td>-1.768610</td>\n",
              "      <td>28.348579</td>\n",
              "      <td>2.378768</td>\n",
              "      <td>45.717648</td>\n",
              "      <td>-1.938424</td>\n",
              "      <td>53.050835</td>\n",
              "      <td>2.517375</td>\n",
              "      <td>33.105122</td>\n",
              "      <td>blues</td>\n",
              "    </tr>\n",
              "    <tr>\n",
              "      <th>3</th>\n",
              "      <td>blues.00000.3.wav</td>\n",
              "      <td>66149</td>\n",
              "      <td>0.363639</td>\n",
              "      <td>0.086856</td>\n",
              "      <td>0.132565</td>\n",
              "      <td>0.002448</td>\n",
              "      <td>1655.289045</td>\n",
              "      <td>111952.284517</td>\n",
              "      <td>1960.039988</td>\n",
              "      <td>82913.639269</td>\n",
              "      <td>...</td>\n",
              "      <td>47.739452</td>\n",
              "      <td>-3.841155</td>\n",
              "      <td>28.337118</td>\n",
              "      <td>1.218588</td>\n",
              "      <td>34.770935</td>\n",
              "      <td>-3.580352</td>\n",
              "      <td>50.836224</td>\n",
              "      <td>3.630866</td>\n",
              "      <td>32.023678</td>\n",
              "      <td>blues</td>\n",
              "    </tr>\n",
              "    <tr>\n",
              "      <th>4</th>\n",
              "      <td>blues.00000.4.wav</td>\n",
              "      <td>66149</td>\n",
              "      <td>0.335579</td>\n",
              "      <td>0.088129</td>\n",
              "      <td>0.143289</td>\n",
              "      <td>0.001701</td>\n",
              "      <td>1630.656199</td>\n",
              "      <td>79667.267654</td>\n",
              "      <td>1948.503884</td>\n",
              "      <td>60204.020268</td>\n",
              "      <td>...</td>\n",
              "      <td>30.336359</td>\n",
              "      <td>0.664582</td>\n",
              "      <td>45.880913</td>\n",
              "      <td>1.689446</td>\n",
              "      <td>51.363583</td>\n",
              "      <td>-3.392489</td>\n",
              "      <td>26.738789</td>\n",
              "      <td>0.536961</td>\n",
              "      <td>29.146694</td>\n",
              "      <td>blues</td>\n",
              "    </tr>\n",
              "  </tbody>\n",
              "</table>\n",
              "<p>5 rows × 60 columns</p>\n",
              "</div>\n",
              "      <button class=\"colab-df-convert\" onclick=\"convertToInteractive('df-7d798514-7618-4553-bc37-ed3f0c7fceb7')\"\n",
              "              title=\"Convert this dataframe to an interactive table.\"\n",
              "              style=\"display:none;\">\n",
              "        \n",
              "  <svg xmlns=\"http://www.w3.org/2000/svg\" height=\"24px\"viewBox=\"0 0 24 24\"\n",
              "       width=\"24px\">\n",
              "    <path d=\"M0 0h24v24H0V0z\" fill=\"none\"/>\n",
              "    <path d=\"M18.56 5.44l.94 2.06.94-2.06 2.06-.94-2.06-.94-.94-2.06-.94 2.06-2.06.94zm-11 1L8.5 8.5l.94-2.06 2.06-.94-2.06-.94L8.5 2.5l-.94 2.06-2.06.94zm10 10l.94 2.06.94-2.06 2.06-.94-2.06-.94-.94-2.06-.94 2.06-2.06.94z\"/><path d=\"M17.41 7.96l-1.37-1.37c-.4-.4-.92-.59-1.43-.59-.52 0-1.04.2-1.43.59L10.3 9.45l-7.72 7.72c-.78.78-.78 2.05 0 2.83L4 21.41c.39.39.9.59 1.41.59.51 0 1.02-.2 1.41-.59l7.78-7.78 2.81-2.81c.8-.78.8-2.07 0-2.86zM5.41 20L4 18.59l7.72-7.72 1.47 1.35L5.41 20z\"/>\n",
              "  </svg>\n",
              "      </button>\n",
              "      \n",
              "  <style>\n",
              "    .colab-df-container {\n",
              "      display:flex;\n",
              "      flex-wrap:wrap;\n",
              "      gap: 12px;\n",
              "    }\n",
              "\n",
              "    .colab-df-convert {\n",
              "      background-color: #E8F0FE;\n",
              "      border: none;\n",
              "      border-radius: 50%;\n",
              "      cursor: pointer;\n",
              "      display: none;\n",
              "      fill: #1967D2;\n",
              "      height: 32px;\n",
              "      padding: 0 0 0 0;\n",
              "      width: 32px;\n",
              "    }\n",
              "\n",
              "    .colab-df-convert:hover {\n",
              "      background-color: #E2EBFA;\n",
              "      box-shadow: 0px 1px 2px rgba(60, 64, 67, 0.3), 0px 1px 3px 1px rgba(60, 64, 67, 0.15);\n",
              "      fill: #174EA6;\n",
              "    }\n",
              "\n",
              "    [theme=dark] .colab-df-convert {\n",
              "      background-color: #3B4455;\n",
              "      fill: #D2E3FC;\n",
              "    }\n",
              "\n",
              "    [theme=dark] .colab-df-convert:hover {\n",
              "      background-color: #434B5C;\n",
              "      box-shadow: 0px 1px 3px 1px rgba(0, 0, 0, 0.15);\n",
              "      filter: drop-shadow(0px 1px 2px rgba(0, 0, 0, 0.3));\n",
              "      fill: #FFFFFF;\n",
              "    }\n",
              "  </style>\n",
              "\n",
              "      <script>\n",
              "        const buttonEl =\n",
              "          document.querySelector('#df-7d798514-7618-4553-bc37-ed3f0c7fceb7 button.colab-df-convert');\n",
              "        buttonEl.style.display =\n",
              "          google.colab.kernel.accessAllowed ? 'block' : 'none';\n",
              "\n",
              "        async function convertToInteractive(key) {\n",
              "          const element = document.querySelector('#df-7d798514-7618-4553-bc37-ed3f0c7fceb7');\n",
              "          const dataTable =\n",
              "            await google.colab.kernel.invokeFunction('convertToInteractive',\n",
              "                                                     [key], {});\n",
              "          if (!dataTable) return;\n",
              "\n",
              "          const docLinkHtml = 'Like what you see? Visit the ' +\n",
              "            '<a target=\"_blank\" href=https://colab.research.google.com/notebooks/data_table.ipynb>data table notebook</a>'\n",
              "            + ' to learn more about interactive tables.';\n",
              "          element.innerHTML = '';\n",
              "          dataTable['output_type'] = 'display_data';\n",
              "          await google.colab.output.renderOutput(dataTable, element);\n",
              "          const docLink = document.createElement('div');\n",
              "          docLink.innerHTML = docLinkHtml;\n",
              "          element.appendChild(docLink);\n",
              "        }\n",
              "      </script>\n",
              "    </div>\n",
              "  </div>\n",
              "  "
            ],
            "text/plain": [
              "            filename  length  chroma_stft_mean  chroma_stft_var  rms_mean  \\\n",
              "0  blues.00000.0.wav   66149          0.335406         0.091048  0.130405   \n",
              "1  blues.00000.1.wav   66149          0.343065         0.086147  0.112699   \n",
              "2  blues.00000.2.wav   66149          0.346815         0.092243  0.132003   \n",
              "3  blues.00000.3.wav   66149          0.363639         0.086856  0.132565   \n",
              "4  blues.00000.4.wav   66149          0.335579         0.088129  0.143289   \n",
              "\n",
              "    rms_var  spectral_centroid_mean  spectral_centroid_var  \\\n",
              "0  0.003521             1773.065032          167541.630869   \n",
              "1  0.001450             1816.693777           90525.690866   \n",
              "2  0.004620             1788.539719          111407.437613   \n",
              "3  0.002448             1655.289045          111952.284517   \n",
              "4  0.001701             1630.656199           79667.267654   \n",
              "\n",
              "   spectral_bandwidth_mean  spectral_bandwidth_var  ...  mfcc16_var  \\\n",
              "0              1972.744388           117335.771563  ...   39.687145   \n",
              "1              2010.051501            65671.875673  ...   64.748276   \n",
              "2              2084.565132            75124.921716  ...   67.336563   \n",
              "3              1960.039988            82913.639269  ...   47.739452   \n",
              "4              1948.503884            60204.020268  ...   30.336359   \n",
              "\n",
              "   mfcc17_mean  mfcc17_var  mfcc18_mean  mfcc18_var  mfcc19_mean  mfcc19_var  \\\n",
              "0    -3.241280   36.488243     0.722209   38.099152    -5.050335   33.618073   \n",
              "1    -6.055294   40.677654     0.159015   51.264091    -2.837699   97.030830   \n",
              "2    -1.768610   28.348579     2.378768   45.717648    -1.938424   53.050835   \n",
              "3    -3.841155   28.337118     1.218588   34.770935    -3.580352   50.836224   \n",
              "4     0.664582   45.880913     1.689446   51.363583    -3.392489   26.738789   \n",
              "\n",
              "   mfcc20_mean  mfcc20_var  label  \n",
              "0    -0.243027   43.771767  blues  \n",
              "1     5.784063   59.943081  blues  \n",
              "2     2.517375   33.105122  blues  \n",
              "3     3.630866   32.023678  blues  \n",
              "4     0.536961   29.146694  blues  \n",
              "\n",
              "[5 rows x 60 columns]"
            ]
          },
          "execution_count": 5,
          "metadata": {},
          "output_type": "execute_result"
        }
      ],
      "source": [
        "df = pd.read_csv('features_3_sec.csv')\n",
        "df.head()"
      ]
    },
    {
      "cell_type": "markdown",
      "source": [
        "About the Dataset"
      ],
      "metadata": {
        "id": "vwxPK6FIuIZE"
      }
    },
    {
      "cell_type": "code",
      "execution_count": null,
      "metadata": {
        "colab": {
          "base_uri": "https://localhost:8080/"
        },
        "id": "1_PxBZ56NxMQ",
        "outputId": "0cf36071-c063-40e6-9e3d-8d3d8be2132c"
      },
      "outputs": [
        {
          "data": {
            "text/plain": [
              "(9990, 60)"
            ]
          },
          "execution_count": 6,
          "metadata": {},
          "output_type": "execute_result"
        }
      ],
      "source": [
        "df.shape"
      ]
    },
    {
      "cell_type": "code",
      "execution_count": null,
      "metadata": {
        "colab": {
          "base_uri": "https://localhost:8080/"
        },
        "id": "8MaAY25iNz8F",
        "outputId": "f157e7ce-7aaa-464f-bddc-f29cdae787ea"
      },
      "outputs": [
        {
          "data": {
            "text/plain": [
              "filename                    object\n",
              "length                       int64\n",
              "chroma_stft_mean           float64\n",
              "chroma_stft_var            float64\n",
              "rms_mean                   float64\n",
              "rms_var                    float64\n",
              "spectral_centroid_mean     float64\n",
              "spectral_centroid_var      float64\n",
              "spectral_bandwidth_mean    float64\n",
              "spectral_bandwidth_var     float64\n",
              "rolloff_mean               float64\n",
              "rolloff_var                float64\n",
              "zero_crossing_rate_mean    float64\n",
              "zero_crossing_rate_var     float64\n",
              "harmony_mean               float64\n",
              "harmony_var                float64\n",
              "perceptr_mean              float64\n",
              "perceptr_var               float64\n",
              "tempo                      float64\n",
              "mfcc1_mean                 float64\n",
              "mfcc1_var                  float64\n",
              "mfcc2_mean                 float64\n",
              "mfcc2_var                  float64\n",
              "mfcc3_mean                 float64\n",
              "mfcc3_var                  float64\n",
              "mfcc4_mean                 float64\n",
              "mfcc4_var                  float64\n",
              "mfcc5_mean                 float64\n",
              "mfcc5_var                  float64\n",
              "mfcc6_mean                 float64\n",
              "mfcc6_var                  float64\n",
              "mfcc7_mean                 float64\n",
              "mfcc7_var                  float64\n",
              "mfcc8_mean                 float64\n",
              "mfcc8_var                  float64\n",
              "mfcc9_mean                 float64\n",
              "mfcc9_var                  float64\n",
              "mfcc10_mean                float64\n",
              "mfcc10_var                 float64\n",
              "mfcc11_mean                float64\n",
              "mfcc11_var                 float64\n",
              "mfcc12_mean                float64\n",
              "mfcc12_var                 float64\n",
              "mfcc13_mean                float64\n",
              "mfcc13_var                 float64\n",
              "mfcc14_mean                float64\n",
              "mfcc14_var                 float64\n",
              "mfcc15_mean                float64\n",
              "mfcc15_var                 float64\n",
              "mfcc16_mean                float64\n",
              "mfcc16_var                 float64\n",
              "mfcc17_mean                float64\n",
              "mfcc17_var                 float64\n",
              "mfcc18_mean                float64\n",
              "mfcc18_var                 float64\n",
              "mfcc19_mean                float64\n",
              "mfcc19_var                 float64\n",
              "mfcc20_mean                float64\n",
              "mfcc20_var                 float64\n",
              "label                       object\n",
              "dtype: object"
            ]
          },
          "execution_count": 7,
          "metadata": {},
          "output_type": "execute_result"
        }
      ],
      "source": [
        "df.dtypes"
      ]
    },
    {
      "cell_type": "code",
      "execution_count": null,
      "metadata": {
        "id": "xHoC8GLtN1Aw"
      },
      "outputs": [],
      "source": [
        "df = df.drop(labels = 'filename', axis = 1)"
      ]
    },
    {
      "cell_type": "code",
      "execution_count": null,
      "metadata": {
        "colab": {
          "base_uri": "https://localhost:8080/",
          "height": 488
        },
        "id": "ErK6rG9JN3qk",
        "outputId": "0ede75e0-adec-4b97-d53d-34a401388768"
      },
      "outputs": [
        {
          "data": {
            "text/html": [
              "\n",
              "  <div id=\"df-ea6b82f7-1f57-40b7-84d5-428fefad26be\">\n",
              "    <div class=\"colab-df-container\">\n",
              "      <div>\n",
              "<style scoped>\n",
              "    .dataframe tbody tr th:only-of-type {\n",
              "        vertical-align: middle;\n",
              "    }\n",
              "\n",
              "    .dataframe tbody tr th {\n",
              "        vertical-align: top;\n",
              "    }\n",
              "\n",
              "    .dataframe thead th {\n",
              "        text-align: right;\n",
              "    }\n",
              "</style>\n",
              "<table border=\"1\" class=\"dataframe\">\n",
              "  <thead>\n",
              "    <tr style=\"text-align: right;\">\n",
              "      <th></th>\n",
              "      <th>length</th>\n",
              "      <th>chroma_stft_mean</th>\n",
              "      <th>chroma_stft_var</th>\n",
              "      <th>rms_mean</th>\n",
              "      <th>rms_var</th>\n",
              "      <th>spectral_centroid_mean</th>\n",
              "      <th>spectral_centroid_var</th>\n",
              "      <th>spectral_bandwidth_mean</th>\n",
              "      <th>spectral_bandwidth_var</th>\n",
              "      <th>rolloff_mean</th>\n",
              "      <th>...</th>\n",
              "      <th>mfcc16_var</th>\n",
              "      <th>mfcc17_mean</th>\n",
              "      <th>mfcc17_var</th>\n",
              "      <th>mfcc18_mean</th>\n",
              "      <th>mfcc18_var</th>\n",
              "      <th>mfcc19_mean</th>\n",
              "      <th>mfcc19_var</th>\n",
              "      <th>mfcc20_mean</th>\n",
              "      <th>mfcc20_var</th>\n",
              "      <th>label</th>\n",
              "    </tr>\n",
              "  </thead>\n",
              "  <tbody>\n",
              "    <tr>\n",
              "      <th>0</th>\n",
              "      <td>66149</td>\n",
              "      <td>0.335406</td>\n",
              "      <td>0.091048</td>\n",
              "      <td>0.130405</td>\n",
              "      <td>0.003521</td>\n",
              "      <td>1773.065032</td>\n",
              "      <td>167541.630869</td>\n",
              "      <td>1972.744388</td>\n",
              "      <td>117335.771563</td>\n",
              "      <td>3714.560359</td>\n",
              "      <td>...</td>\n",
              "      <td>39.687145</td>\n",
              "      <td>-3.241280</td>\n",
              "      <td>36.488243</td>\n",
              "      <td>0.722209</td>\n",
              "      <td>38.099152</td>\n",
              "      <td>-5.050335</td>\n",
              "      <td>33.618073</td>\n",
              "      <td>-0.243027</td>\n",
              "      <td>43.771767</td>\n",
              "      <td>blues</td>\n",
              "    </tr>\n",
              "    <tr>\n",
              "      <th>1</th>\n",
              "      <td>66149</td>\n",
              "      <td>0.343065</td>\n",
              "      <td>0.086147</td>\n",
              "      <td>0.112699</td>\n",
              "      <td>0.001450</td>\n",
              "      <td>1816.693777</td>\n",
              "      <td>90525.690866</td>\n",
              "      <td>2010.051501</td>\n",
              "      <td>65671.875673</td>\n",
              "      <td>3869.682242</td>\n",
              "      <td>...</td>\n",
              "      <td>64.748276</td>\n",
              "      <td>-6.055294</td>\n",
              "      <td>40.677654</td>\n",
              "      <td>0.159015</td>\n",
              "      <td>51.264091</td>\n",
              "      <td>-2.837699</td>\n",
              "      <td>97.030830</td>\n",
              "      <td>5.784063</td>\n",
              "      <td>59.943081</td>\n",
              "      <td>blues</td>\n",
              "    </tr>\n",
              "    <tr>\n",
              "      <th>2</th>\n",
              "      <td>66149</td>\n",
              "      <td>0.346815</td>\n",
              "      <td>0.092243</td>\n",
              "      <td>0.132003</td>\n",
              "      <td>0.004620</td>\n",
              "      <td>1788.539719</td>\n",
              "      <td>111407.437613</td>\n",
              "      <td>2084.565132</td>\n",
              "      <td>75124.921716</td>\n",
              "      <td>3997.639160</td>\n",
              "      <td>...</td>\n",
              "      <td>67.336563</td>\n",
              "      <td>-1.768610</td>\n",
              "      <td>28.348579</td>\n",
              "      <td>2.378768</td>\n",
              "      <td>45.717648</td>\n",
              "      <td>-1.938424</td>\n",
              "      <td>53.050835</td>\n",
              "      <td>2.517375</td>\n",
              "      <td>33.105122</td>\n",
              "      <td>blues</td>\n",
              "    </tr>\n",
              "    <tr>\n",
              "      <th>3</th>\n",
              "      <td>66149</td>\n",
              "      <td>0.363639</td>\n",
              "      <td>0.086856</td>\n",
              "      <td>0.132565</td>\n",
              "      <td>0.002448</td>\n",
              "      <td>1655.289045</td>\n",
              "      <td>111952.284517</td>\n",
              "      <td>1960.039988</td>\n",
              "      <td>82913.639269</td>\n",
              "      <td>3568.300218</td>\n",
              "      <td>...</td>\n",
              "      <td>47.739452</td>\n",
              "      <td>-3.841155</td>\n",
              "      <td>28.337118</td>\n",
              "      <td>1.218588</td>\n",
              "      <td>34.770935</td>\n",
              "      <td>-3.580352</td>\n",
              "      <td>50.836224</td>\n",
              "      <td>3.630866</td>\n",
              "      <td>32.023678</td>\n",
              "      <td>blues</td>\n",
              "    </tr>\n",
              "    <tr>\n",
              "      <th>4</th>\n",
              "      <td>66149</td>\n",
              "      <td>0.335579</td>\n",
              "      <td>0.088129</td>\n",
              "      <td>0.143289</td>\n",
              "      <td>0.001701</td>\n",
              "      <td>1630.656199</td>\n",
              "      <td>79667.267654</td>\n",
              "      <td>1948.503884</td>\n",
              "      <td>60204.020268</td>\n",
              "      <td>3469.992864</td>\n",
              "      <td>...</td>\n",
              "      <td>30.336359</td>\n",
              "      <td>0.664582</td>\n",
              "      <td>45.880913</td>\n",
              "      <td>1.689446</td>\n",
              "      <td>51.363583</td>\n",
              "      <td>-3.392489</td>\n",
              "      <td>26.738789</td>\n",
              "      <td>0.536961</td>\n",
              "      <td>29.146694</td>\n",
              "      <td>blues</td>\n",
              "    </tr>\n",
              "    <tr>\n",
              "      <th>...</th>\n",
              "      <td>...</td>\n",
              "      <td>...</td>\n",
              "      <td>...</td>\n",
              "      <td>...</td>\n",
              "      <td>...</td>\n",
              "      <td>...</td>\n",
              "      <td>...</td>\n",
              "      <td>...</td>\n",
              "      <td>...</td>\n",
              "      <td>...</td>\n",
              "      <td>...</td>\n",
              "      <td>...</td>\n",
              "      <td>...</td>\n",
              "      <td>...</td>\n",
              "      <td>...</td>\n",
              "      <td>...</td>\n",
              "      <td>...</td>\n",
              "      <td>...</td>\n",
              "      <td>...</td>\n",
              "      <td>...</td>\n",
              "      <td>...</td>\n",
              "    </tr>\n",
              "    <tr>\n",
              "      <th>9985</th>\n",
              "      <td>66149</td>\n",
              "      <td>0.349126</td>\n",
              "      <td>0.080515</td>\n",
              "      <td>0.050019</td>\n",
              "      <td>0.000097</td>\n",
              "      <td>1499.083005</td>\n",
              "      <td>164266.886443</td>\n",
              "      <td>1718.707215</td>\n",
              "      <td>85931.574523</td>\n",
              "      <td>3015.559458</td>\n",
              "      <td>...</td>\n",
              "      <td>42.485981</td>\n",
              "      <td>-9.094270</td>\n",
              "      <td>38.326839</td>\n",
              "      <td>-4.246976</td>\n",
              "      <td>31.049839</td>\n",
              "      <td>-5.625813</td>\n",
              "      <td>48.804092</td>\n",
              "      <td>1.818823</td>\n",
              "      <td>38.966969</td>\n",
              "      <td>rock</td>\n",
              "    </tr>\n",
              "    <tr>\n",
              "      <th>9986</th>\n",
              "      <td>66149</td>\n",
              "      <td>0.372564</td>\n",
              "      <td>0.082626</td>\n",
              "      <td>0.057897</td>\n",
              "      <td>0.000088</td>\n",
              "      <td>1847.965128</td>\n",
              "      <td>281054.935973</td>\n",
              "      <td>1906.468492</td>\n",
              "      <td>99727.037054</td>\n",
              "      <td>3746.694524</td>\n",
              "      <td>...</td>\n",
              "      <td>32.415203</td>\n",
              "      <td>-12.375726</td>\n",
              "      <td>66.418587</td>\n",
              "      <td>-3.081278</td>\n",
              "      <td>54.414265</td>\n",
              "      <td>-11.960546</td>\n",
              "      <td>63.452255</td>\n",
              "      <td>0.428857</td>\n",
              "      <td>18.697033</td>\n",
              "      <td>rock</td>\n",
              "    </tr>\n",
              "    <tr>\n",
              "      <th>9987</th>\n",
              "      <td>66149</td>\n",
              "      <td>0.347481</td>\n",
              "      <td>0.089019</td>\n",
              "      <td>0.052403</td>\n",
              "      <td>0.000701</td>\n",
              "      <td>1346.157659</td>\n",
              "      <td>662956.246325</td>\n",
              "      <td>1561.859087</td>\n",
              "      <td>138762.841945</td>\n",
              "      <td>2442.362154</td>\n",
              "      <td>...</td>\n",
              "      <td>78.228149</td>\n",
              "      <td>-2.524483</td>\n",
              "      <td>21.778994</td>\n",
              "      <td>4.809936</td>\n",
              "      <td>25.980829</td>\n",
              "      <td>1.775686</td>\n",
              "      <td>48.582378</td>\n",
              "      <td>-0.299545</td>\n",
              "      <td>41.586990</td>\n",
              "      <td>rock</td>\n",
              "    </tr>\n",
              "    <tr>\n",
              "      <th>9988</th>\n",
              "      <td>66149</td>\n",
              "      <td>0.387527</td>\n",
              "      <td>0.084815</td>\n",
              "      <td>0.066430</td>\n",
              "      <td>0.000320</td>\n",
              "      <td>2084.515327</td>\n",
              "      <td>203891.039161</td>\n",
              "      <td>2018.366254</td>\n",
              "      <td>22860.992562</td>\n",
              "      <td>4313.266226</td>\n",
              "      <td>...</td>\n",
              "      <td>28.323744</td>\n",
              "      <td>-5.363541</td>\n",
              "      <td>17.209942</td>\n",
              "      <td>6.462601</td>\n",
              "      <td>21.442928</td>\n",
              "      <td>2.354765</td>\n",
              "      <td>24.843613</td>\n",
              "      <td>0.675824</td>\n",
              "      <td>12.787750</td>\n",
              "      <td>rock</td>\n",
              "    </tr>\n",
              "    <tr>\n",
              "      <th>9989</th>\n",
              "      <td>66149</td>\n",
              "      <td>0.369293</td>\n",
              "      <td>0.086759</td>\n",
              "      <td>0.050524</td>\n",
              "      <td>0.000067</td>\n",
              "      <td>1634.330126</td>\n",
              "      <td>411429.169769</td>\n",
              "      <td>1867.422378</td>\n",
              "      <td>119722.211518</td>\n",
              "      <td>3462.042142</td>\n",
              "      <td>...</td>\n",
              "      <td>38.801735</td>\n",
              "      <td>-11.598399</td>\n",
              "      <td>58.983097</td>\n",
              "      <td>-0.178517</td>\n",
              "      <td>55.761299</td>\n",
              "      <td>-6.903252</td>\n",
              "      <td>39.485901</td>\n",
              "      <td>-3.412534</td>\n",
              "      <td>31.727489</td>\n",
              "      <td>rock</td>\n",
              "    </tr>\n",
              "  </tbody>\n",
              "</table>\n",
              "<p>9990 rows × 59 columns</p>\n",
              "</div>\n",
              "      <button class=\"colab-df-convert\" onclick=\"convertToInteractive('df-ea6b82f7-1f57-40b7-84d5-428fefad26be')\"\n",
              "              title=\"Convert this dataframe to an interactive table.\"\n",
              "              style=\"display:none;\">\n",
              "        \n",
              "  <svg xmlns=\"http://www.w3.org/2000/svg\" height=\"24px\"viewBox=\"0 0 24 24\"\n",
              "       width=\"24px\">\n",
              "    <path d=\"M0 0h24v24H0V0z\" fill=\"none\"/>\n",
              "    <path d=\"M18.56 5.44l.94 2.06.94-2.06 2.06-.94-2.06-.94-.94-2.06-.94 2.06-2.06.94zm-11 1L8.5 8.5l.94-2.06 2.06-.94-2.06-.94L8.5 2.5l-.94 2.06-2.06.94zm10 10l.94 2.06.94-2.06 2.06-.94-2.06-.94-.94-2.06-.94 2.06-2.06.94z\"/><path d=\"M17.41 7.96l-1.37-1.37c-.4-.4-.92-.59-1.43-.59-.52 0-1.04.2-1.43.59L10.3 9.45l-7.72 7.72c-.78.78-.78 2.05 0 2.83L4 21.41c.39.39.9.59 1.41.59.51 0 1.02-.2 1.41-.59l7.78-7.78 2.81-2.81c.8-.78.8-2.07 0-2.86zM5.41 20L4 18.59l7.72-7.72 1.47 1.35L5.41 20z\"/>\n",
              "  </svg>\n",
              "      </button>\n",
              "      \n",
              "  <style>\n",
              "    .colab-df-container {\n",
              "      display:flex;\n",
              "      flex-wrap:wrap;\n",
              "      gap: 12px;\n",
              "    }\n",
              "\n",
              "    .colab-df-convert {\n",
              "      background-color: #E8F0FE;\n",
              "      border: none;\n",
              "      border-radius: 50%;\n",
              "      cursor: pointer;\n",
              "      display: none;\n",
              "      fill: #1967D2;\n",
              "      height: 32px;\n",
              "      padding: 0 0 0 0;\n",
              "      width: 32px;\n",
              "    }\n",
              "\n",
              "    .colab-df-convert:hover {\n",
              "      background-color: #E2EBFA;\n",
              "      box-shadow: 0px 1px 2px rgba(60, 64, 67, 0.3), 0px 1px 3px 1px rgba(60, 64, 67, 0.15);\n",
              "      fill: #174EA6;\n",
              "    }\n",
              "\n",
              "    [theme=dark] .colab-df-convert {\n",
              "      background-color: #3B4455;\n",
              "      fill: #D2E3FC;\n",
              "    }\n",
              "\n",
              "    [theme=dark] .colab-df-convert:hover {\n",
              "      background-color: #434B5C;\n",
              "      box-shadow: 0px 1px 3px 1px rgba(0, 0, 0, 0.15);\n",
              "      filter: drop-shadow(0px 1px 2px rgba(0, 0, 0, 0.3));\n",
              "      fill: #FFFFFF;\n",
              "    }\n",
              "  </style>\n",
              "\n",
              "      <script>\n",
              "        const buttonEl =\n",
              "          document.querySelector('#df-ea6b82f7-1f57-40b7-84d5-428fefad26be button.colab-df-convert');\n",
              "        buttonEl.style.display =\n",
              "          google.colab.kernel.accessAllowed ? 'block' : 'none';\n",
              "\n",
              "        async function convertToInteractive(key) {\n",
              "          const element = document.querySelector('#df-ea6b82f7-1f57-40b7-84d5-428fefad26be');\n",
              "          const dataTable =\n",
              "            await google.colab.kernel.invokeFunction('convertToInteractive',\n",
              "                                                     [key], {});\n",
              "          if (!dataTable) return;\n",
              "\n",
              "          const docLinkHtml = 'Like what you see? Visit the ' +\n",
              "            '<a target=\"_blank\" href=https://colab.research.google.com/notebooks/data_table.ipynb>data table notebook</a>'\n",
              "            + ' to learn more about interactive tables.';\n",
              "          element.innerHTML = '';\n",
              "          dataTable['output_type'] = 'display_data';\n",
              "          await google.colab.output.renderOutput(dataTable, element);\n",
              "          const docLink = document.createElement('div');\n",
              "          docLink.innerHTML = docLinkHtml;\n",
              "          element.appendChild(docLink);\n",
              "        }\n",
              "      </script>\n",
              "    </div>\n",
              "  </div>\n",
              "  "
            ],
            "text/plain": [
              "      length  chroma_stft_mean  chroma_stft_var  rms_mean   rms_var  \\\n",
              "0      66149          0.335406         0.091048  0.130405  0.003521   \n",
              "1      66149          0.343065         0.086147  0.112699  0.001450   \n",
              "2      66149          0.346815         0.092243  0.132003  0.004620   \n",
              "3      66149          0.363639         0.086856  0.132565  0.002448   \n",
              "4      66149          0.335579         0.088129  0.143289  0.001701   \n",
              "...      ...               ...              ...       ...       ...   \n",
              "9985   66149          0.349126         0.080515  0.050019  0.000097   \n",
              "9986   66149          0.372564         0.082626  0.057897  0.000088   \n",
              "9987   66149          0.347481         0.089019  0.052403  0.000701   \n",
              "9988   66149          0.387527         0.084815  0.066430  0.000320   \n",
              "9989   66149          0.369293         0.086759  0.050524  0.000067   \n",
              "\n",
              "      spectral_centroid_mean  spectral_centroid_var  spectral_bandwidth_mean  \\\n",
              "0                1773.065032          167541.630869              1972.744388   \n",
              "1                1816.693777           90525.690866              2010.051501   \n",
              "2                1788.539719          111407.437613              2084.565132   \n",
              "3                1655.289045          111952.284517              1960.039988   \n",
              "4                1630.656199           79667.267654              1948.503884   \n",
              "...                      ...                    ...                      ...   \n",
              "9985             1499.083005          164266.886443              1718.707215   \n",
              "9986             1847.965128          281054.935973              1906.468492   \n",
              "9987             1346.157659          662956.246325              1561.859087   \n",
              "9988             2084.515327          203891.039161              2018.366254   \n",
              "9989             1634.330126          411429.169769              1867.422378   \n",
              "\n",
              "      spectral_bandwidth_var  rolloff_mean  ...  mfcc16_var  mfcc17_mean  \\\n",
              "0              117335.771563   3714.560359  ...   39.687145    -3.241280   \n",
              "1               65671.875673   3869.682242  ...   64.748276    -6.055294   \n",
              "2               75124.921716   3997.639160  ...   67.336563    -1.768610   \n",
              "3               82913.639269   3568.300218  ...   47.739452    -3.841155   \n",
              "4               60204.020268   3469.992864  ...   30.336359     0.664582   \n",
              "...                      ...           ...  ...         ...          ...   \n",
              "9985            85931.574523   3015.559458  ...   42.485981    -9.094270   \n",
              "9986            99727.037054   3746.694524  ...   32.415203   -12.375726   \n",
              "9987           138762.841945   2442.362154  ...   78.228149    -2.524483   \n",
              "9988            22860.992562   4313.266226  ...   28.323744    -5.363541   \n",
              "9989           119722.211518   3462.042142  ...   38.801735   -11.598399   \n",
              "\n",
              "      mfcc17_var  mfcc18_mean  mfcc18_var  mfcc19_mean  mfcc19_var  \\\n",
              "0      36.488243     0.722209   38.099152    -5.050335   33.618073   \n",
              "1      40.677654     0.159015   51.264091    -2.837699   97.030830   \n",
              "2      28.348579     2.378768   45.717648    -1.938424   53.050835   \n",
              "3      28.337118     1.218588   34.770935    -3.580352   50.836224   \n",
              "4      45.880913     1.689446   51.363583    -3.392489   26.738789   \n",
              "...          ...          ...         ...          ...         ...   \n",
              "9985   38.326839    -4.246976   31.049839    -5.625813   48.804092   \n",
              "9986   66.418587    -3.081278   54.414265   -11.960546   63.452255   \n",
              "9987   21.778994     4.809936   25.980829     1.775686   48.582378   \n",
              "9988   17.209942     6.462601   21.442928     2.354765   24.843613   \n",
              "9989   58.983097    -0.178517   55.761299    -6.903252   39.485901   \n",
              "\n",
              "      mfcc20_mean  mfcc20_var  label  \n",
              "0       -0.243027   43.771767  blues  \n",
              "1        5.784063   59.943081  blues  \n",
              "2        2.517375   33.105122  blues  \n",
              "3        3.630866   32.023678  blues  \n",
              "4        0.536961   29.146694  blues  \n",
              "...           ...         ...    ...  \n",
              "9985     1.818823   38.966969   rock  \n",
              "9986     0.428857   18.697033   rock  \n",
              "9987    -0.299545   41.586990   rock  \n",
              "9988     0.675824   12.787750   rock  \n",
              "9989    -3.412534   31.727489   rock  \n",
              "\n",
              "[9990 rows x 59 columns]"
            ]
          },
          "execution_count": 9,
          "metadata": {},
          "output_type": "execute_result"
        }
      ],
      "source": [
        "df"
      ]
    },
    {
      "cell_type": "markdown",
      "source": [
        "Understanding the Audio Files"
      ],
      "metadata": {
        "id": "3Vg3e5qIuO9z"
      }
    },
    {
      "cell_type": "code",
      "execution_count": null,
      "metadata": {
        "id": "osnsrXF9N4_g"
      },
      "outputs": [],
      "source": [
        "audio_recording = \"/content/classical.00007.wav\"\n",
        "data , sr = librosa.load(audio_recording)\n",
        "print(type(data), type(sr))"
      ]
    },
    {
      "cell_type": "code",
      "execution_count": null,
      "metadata": {
        "id": "QtX7tTlDN6e0"
      },
      "outputs": [],
      "source": [
        "data , sr = librosa.load(audio_recording)"
      ]
    },
    {
      "cell_type": "code",
      "execution_count": null,
      "metadata": {
        "id": "GNbEjgJoN8KQ"
      },
      "outputs": [],
      "source": [
        "librosa.load(audio_recording, sr = 45600)"
      ]
    },
    {
      "cell_type": "markdown",
      "source": [
        "Audio Library "
      ],
      "metadata": {
        "id": "iF95cQERuYMH"
      }
    },
    {
      "cell_type": "code",
      "execution_count": null,
      "metadata": {
        "id": "hc6XugWWN9gM"
      },
      "outputs": [],
      "source": [
        "import IPython"
      ]
    },
    {
      "cell_type": "code",
      "execution_count": null,
      "metadata": {
        "id": "K3gcnIMUN_Ip"
      },
      "outputs": [],
      "source": [
        "IPython.display.Audio(data, rate = sr)"
      ]
    },
    {
      "cell_type": "markdown",
      "source": [
        "Visualizing Audio Files"
      ],
      "metadata": {
        "id": "ZoS2oyGhudIS"
      }
    },
    {
      "cell_type": "markdown",
      "source": [
        "Raw Wave File"
      ],
      "metadata": {
        "id": "4iYHTQJjujQF"
      }
    },
    {
      "cell_type": "code",
      "execution_count": null,
      "metadata": {
        "colab": {
          "background_save": true
        },
        "id": "AWfXEtV0OAnQ",
        "outputId": "2c172ff8-2f06-475a-a6f0-b81c4a1cb52b"
      },
      "outputs": [
        {
          "data": {
            "image/png": "[encoded data removed]",
            "text/plain": [
              "<Figure size 864x288 with 1 Axes>"
            ]
          },
          "metadata": {},
          "output_type": "display_data"
        }
      ],
      "source": [
        "plt.figure(figsize = (12,4))\n",
        "librosa.display.waveplot(data, color = '#2B4F72')\n",
        "plt.show()"
      ]
    },
    {
      "cell_type": "markdown",
      "source": [
        "Spectogram"
      ],
      "metadata": {
        "id": "2UrCZjiMusHJ"
      }
    },
    {
      "cell_type": "code",
      "execution_count": null,
      "metadata": {
        "id": "ZdHFv_ieOD5k"
      },
      "outputs": [],
      "source": [
        "stft = librosa.stft(data)\n",
        "stftf_db = librosa.amplitude_to_db(abs(stft))\n",
        "plt.figure(figsize = (14, 6))\n",
        "librosa.display.specshow(stft, sr = sr, x_axis = 'time', y_axis = 'hz')\n",
        "plt.colorbar()"
      ]
    },
    {
      "cell_type": "code",
      "execution_count": null,
      "metadata": {
        "id": "1ebZO-_9OszU"
      },
      "outputs": [],
      "source": [
        "stft = librosa.stft(data)\n",
        "stft_db = librosa.amplitude_to_db(abs(stft))\n",
        "plt.figure(figsize = (14, 6))\n",
        "librosa.display.specshow(stft_db, sr = sr, x_axis = 'time', y_axis = 'hz')\n",
        "plt.colorbar()"
      ]
    },
    {
      "cell_type": "markdown",
      "source": [
        "Spectral Rolloff"
      ],
      "metadata": {
        "id": "Wbx6y_Fyuxry"
      }
    },
    {
      "cell_type": "code",
      "execution_count": null,
      "metadata": {
        "id": "C8pH7koJPI1R"
      },
      "outputs": [],
      "source": [
        "from sklearn.preprocessing import normalize\n",
        "spectral_rolloff = librosa.feature.spectral_rolloff(data+0.01, sr = sr)[0]\n",
        "plt.figure(figsize = (12, 4))\n",
        "librosa.display.waveplot(data, sr = sr, alpha = 0.4, color = '#2B4F72')"
      ]
    },
    {
      "cell_type": "markdown",
      "source": [
        "Chroma Feature"
      ],
      "metadata": {
        "id": "kjsFIMwbu1CW"
      }
    },
    {
      "cell_type": "code",
      "execution_count": null,
      "metadata": {
        "id": "F-vozLuIVoGV"
      },
      "outputs": [],
      "source": [
        "import librosa.display as lplt\n",
        "chr = librosa.feature.chroma_stft(data, sr = sr)\n",
        "plt.figure(figsize = (15, 6))\n",
        "lplt.specshow(chr, sr = sr, x_axis = 'time', y_axis = 'chroma', cmap = 'coolwarm')\n",
        "plt.colorbar()\n",
        "plt.title('Chroma Features')\n",
        "plt.show()"
      ]
    },
    {
      "cell_type": "markdown",
      "source": [
        "Zero Crossing Rate"
      ],
      "metadata": {
        "id": "YoejVYUhu3kf"
      }
    },
    {
      "cell_type": "code",
      "execution_count": null,
      "metadata": {
        "id": "TbsIFrGNXY8M"
      },
      "outputs": [],
      "source": [
        "start = 1000\n",
        "end = 1100\n",
        "plt.figure(figsize = (11, 5))\n",
        "plt.plot(data[start:end], color = '#2B4F72')\n",
        "plt.grid()"
      ]
    },
    {
      "cell_type": "code",
      "execution_count": null,
      "metadata": {
        "id": "UAqERh9xcMy0"
      },
      "outputs": [],
      "source": [
        "zero_cross_rate = librosa.zero_crossings(data[start:end], pad = False)\n",
        "print('The numberof zero-crossing is :', sum(zero_cross_rate))"
      ]
    },
    {
      "cell_type": "markdown",
      "source": [
        "Feature Extraction"
      ],
      "metadata": {
        "id": "PKcni30WvBXp"
      }
    },
    {
      "cell_type": "code",
      "execution_count": null,
      "metadata": {
        "id": "FzlDXPzwcjUa"
      },
      "outputs": [],
      "source": [
        "class_list = df.iloc[:, -1]\n",
        "convertor = LabelEncoder()"
      ]
    },
    {
      "cell_type": "code",
      "execution_count": null,
      "metadata": {
        "id": "SIOK7Z8Oc-cg"
      },
      "outputs": [],
      "source": [
        "y = convertor.fit_transform(class_list)\n",
        "y"
      ]
    },
    {
      "cell_type": "code",
      "execution_count": null,
      "metadata": {
        "id": "k5nFYF7hdNBR"
      },
      "outputs": [],
      "source": [
        "print(df.iloc[:, :-1])"
      ]
    },
    {
      "cell_type": "markdown",
      "source": [
        "Scaling the Features"
      ],
      "metadata": {
        "id": "xZUt773uvFAj"
      }
    },
    {
      "cell_type": "code",
      "execution_count": null,
      "metadata": {
        "id": "LmVhuUCAdQ2T"
      },
      "outputs": [],
      "source": [
        "from sklearn.preprocessing import StandardScaler\n",
        "fit = StandardScaler()\n",
        "X = fit.fit_transform(np.array(df.iloc[:, :-1], dtype = float))"
      ]
    },
    {
      "cell_type": "markdown",
      "source": [
        "Dividing into Test and Train Datasets"
      ],
      "metadata": {
        "id": "eq-S4PFEvH7p"
      }
    },
    {
      "cell_type": "code",
      "execution_count": null,
      "metadata": {
        "id": "mn3ISjIidpYC"
      },
      "outputs": [],
      "source": [
        "X_train, X_test, y_train , y_test = train_test_split(X, y, test_size = 0.40)"
      ]
    },
    {
      "cell_type": "code",
      "execution_count": null,
      "metadata": {
        "id": "qeRhYsXLd9CR"
      },
      "outputs": [],
      "source": [
        "len(y_train)"
      ]
    },
    {
      "cell_type": "code",
      "execution_count": null,
      "metadata": {
        "id": "klvhONIxd-SW"
      },
      "outputs": [],
      "source": [
        "len(y_test)"
      ]
    },
    {
      "cell_type": "markdown",
      "source": [
        "Building the Model"
      ],
      "metadata": {
        "id": "yMxKAc2gvOo2"
      }
    },
    {
      "cell_type": "code",
      "execution_count": null,
      "metadata": {
        "id": "xrcS9ajMd_zh"
      },
      "outputs": [],
      "source": [
        "from keras.models import Sequential"
      ]
    },
    {
      "cell_type": "code",
      "execution_count": null,
      "metadata": {
        "id": "0wjMnOIhf9cH"
      },
      "outputs": [],
      "source": [
        "def trainModel(model, epochs, optimizer):\n",
        "  batch_size = 128\n",
        "  model.compile(optimizer = optimizer,\n",
        "                loss = 'sparse_categorical_crossentropy',\n",
        "                metrics = 'accuracy'\n",
        "                )\n",
        "  return model.fit(X_train, y_train, validation_data = (X_test, y_test), \n",
        "                   epochs = epochs, batch_size = batch_size)"
      ]
    },
    {
      "cell_type": "code",
      "execution_count": null,
      "metadata": {
        "id": "TzJJFAwMjHRO"
      },
      "outputs": [],
      "source": [
        "def plotValidate(history):\n",
        "  print(\"Validation Accuracy\", max(history.history[\"val_accuracy\"]))\n",
        "  pd.DataFrame(history.history).plot(figsize = (12,6))\n",
        "  plt.show()"
      ]
    },
    {
      "cell_type": "code",
      "execution_count": null,
      "metadata": {
        "id": "bn02tIwL6vE2"
      },
      "outputs": [],
      "source": [
        "model = k.models.Sequential([\n",
        "    k.layers.Dense(512, activation = 'relu', input_shape = (X_train.shape[1],)),\n",
        "    k.layers.Dropout(0.2),\n",
        "\n",
        "    k.layers.Dense(256, activation = 'relu'),\n",
        "    k.layers.Dropout(0.2),\n",
        " \n",
        "    k.layers.Dense(128, activation = 'relu'),\n",
        "    k.layers.Dropout(0.2),\n",
        "  \n",
        "    k.layers.Dense(64, activation = 'relu'),\n",
        "    k.layers.Dropout(0.2),\n",
        "\n",
        "    k.layers.Dense(10, activation = 'softmax'),\n",
        "])\n",
        "print(model.summary())\n",
        "model_history = trainModel(model = model, epochs = 200, optimizer = 'adam')"
      ]
    },
    {
      "cell_type": "markdown",
      "source": [
        "Model Evaluation"
      ],
      "metadata": {
        "id": "aGbfS4CFvSm4"
      }
    },
    {
      "cell_type": "code",
      "execution_count": null,
      "metadata": {
        "id": "POT29io_m4Qa"
      },
      "outputs": [],
      "source": [
        "test_loss, test_acc = model.evaluate(X_test, y_test, batch_size = 128)\n",
        "print('\\nThe test loss is :', test_loss)\n",
        "print('\\nThe Best test accuracy is :', test_acc*100)"
      ]
    },
    {
      "cell_type": "code",
      "execution_count": null,
      "metadata": {
        "id": "yGzZzK93WEi0"
      },
      "outputs": [],
      "source": [
        "model.predict(X_test)"
      ]
    }
  ],
  "metadata": {
    "colab": {
      "collapsed_sections": [],
      "name": "Music Genre Classification.ipynb",
      "provenance": [],
      "include_colab_link": true
    },
    "kernelspec": {
      "display_name": "Python 3",
      "name": "python3"
    },
    "language_info": {
      "name": "python"
    }
  },
  "nbformat": 4,
  "nbformat_minor": 0
}